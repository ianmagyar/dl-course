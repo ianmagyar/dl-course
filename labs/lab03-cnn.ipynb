{
 "cells": [
  {
   "cell_type": "markdown",
   "id": "8e855963",
   "metadata": {},
   "source": [
    "# Konvolučné siete v PyTorchi\n",
    "\n",
    "Na poslednej prednáške sme si vysvetlili, čo je to konvolúcia a pooling, ako tieto operácie fungujú, a na čo sa používajú v kontexte neurónových sietí. Cieľom tohto cvičenia je natrénovať jednoduché neurónové siete na klasifikáciu obrázkov rukou písaných číslic. Využijeme pritom framework *PyTorch*, ktorý slúži na trénovanie neurónových sietí. Ak ho ešte nemáte nainštalovaný, [urobte tak podľa aktuálneho návodu](https://pytorch.org/get-started/locally/). Následne si stiahnite tento notebook, a pracujte v ňom lokálne, alebo napríklad na [Google Colabe](https://colab.research.google.com).\n",
    "\n",
    "Ak notebook spúšťate cez Colab, tak pre prácu s grafickou kartou spustite nasledovný kód. Dataset je však jednoduchý, takže ak nemáte nastavenú grafiku na počítači, stále viete sieť natrénovať za niekoľko minút."
   ]
  },
  {
   "cell_type": "code",
   "execution_count": null,
   "id": "7dc83efc",
   "metadata": {},
   "outputs": [],
   "source": [
    "try:\n",
    "    import torch\n",
    "except:\n",
    "    from os.path import exists\n",
    "    from wheel.pep425tags import get_abbr_impl, get_impl_ver, get_abi_tag\n",
    "    platform = '{}{}-{}'.format(get_abbr_impl(), get_impl_ver(), get_abi_tag())\n",
    "    cuda_output = !ldconfig -p|grep cudart.so|sed -e 's/.*\\.\\([0-9]*\\)\\.\\([0-9]*\\)$/cu\\1\\2/'\n",
    "    accelerator = cuda_output[0] if exists('/dev/nvidia0') else 'cpu'\n",
    "\n",
    "    !pip install -q http://download.pytorch.org/whl/{accelerator}/torch-1.0.0-{platform}-linux_x86_64.whl torchvision\n",
    "\n",
    "try: \n",
    "    import torchbearer\n",
    "except:\n",
    "    !pip install torchbearer"
   ]
  },
  {
   "cell_type": "markdown",
   "id": "ebc934e7",
   "metadata": {},
   "source": [
    "## Načítanie datasetu\n",
    "\n",
    "Pred tým, než si pripravíme štruktúru neurónovej siete, potrebujeme si načítať trénovacie a testovacie údaje. Na dnešnom cvičení použijeme štandardný [dataset MNIST](https://en.wikipedia.org/wiki/MNIST_database), keďže natrénovanie siete na ňom sa stal akousi novodobou verziou programu *Hello, world!*. Dataset obsahuje rukou písané číslice 0-9 vo forme čiernobielych obrázkov s rozmermi 28×28.\n",
    "\n",
    "![Ukážka MNIST datasetu](https://upload.wikimedia.org/wikipedia/commons/f/f7/MnistExamplesModified.png)"
   ]
  },
  {
   "cell_type": "markdown",
   "id": "f448afd2",
   "metadata": {},
   "source": [
    "Pred samotným načítaním údajov si však najprv naimportujeme potrebné knižnice:"
   ]
  },
  {
   "cell_type": "code",
   "execution_count": null,
   "id": "8550c45e",
   "metadata": {},
   "outputs": [],
   "source": [
    "# automatically reload external modules if they change\n",
    "%load_ext autoreload\n",
    "%autoreload 2\n",
    "\n",
    "import torch\n",
    "import torch.nn.functional as F\n",
    "import torchvision.transforms as transforms\n",
    "import torchbearer\n",
    "from torch import nn\n",
    "from torch import optim\n",
    "from torch.utils.data import DataLoader\n",
    "from torchvision.datasets import MNIST\n",
    "from torchbearer import Trial"
   ]
  },
  {
   "cell_type": "markdown",
   "id": "0132509f",
   "metadata": {},
   "source": [
    "Hneď prvým potrebným krokom pri načítavaní obrázkov je potreba ich transformácie na tenzorovú reprezentáciu. V PyTorchi každý obrázok je reprezentovaný ako trojrozmerný tenzor s dimenziami `[channels][height][width]`, kde `channels` je počet farebných kanálov (3 pre RGB obrázky, 1 pre čiernobiele). Tieto transformácie zadefinujeme ako zoznam alebo sériu jednoduchých operácií, ktoré sa vykonajú pri načítaní obrázkov."
   ]
  },
  {
   "cell_type": "code",
   "execution_count": null,
   "id": "df947690",
   "metadata": {},
   "outputs": [],
   "source": [
    "# convert each image to tensor format\n",
    "transform = transforms.Compose([\n",
    "    transforms.ToTensor()  # convert to tensor\n",
    "])\n",
    "\n",
    "# load data\n",
    "trainset = MNIST(\".\", train=True, download=True, transform=transform)\n",
    "testset = MNIST(\".\", train=False, download=True, transform=transform)\n",
    "\n",
    "# create data loaders\n",
    "trainloader = DataLoader(trainset, batch_size=128, shuffle=True)\n",
    "testloader = DataLoader(testset, batch_size=128, shuffle=True)"
   ]
  },
  {
   "cell_type": "markdown",
   "id": "1883b624",
   "metadata": {},
   "source": [
    "Okrem načítania datasetu si vytvoríme aj dataloadery, ktoré budú zodpovedné za dodávanie použitých údajov v batchoch, teda v dávkach. Okrem veľkosti dávok určíme aj spôsob načítavania, tu napríklad sme nastavili náhodné poradie použitia z dôvodu, že bežné neurónové siete sa natrénujú efektívne v prípade, ak sú trénované na časovo nezávislých dátach."
   ]
  },
  {
   "cell_type": "markdown",
   "id": "45d84aae",
   "metadata": {},
   "source": [
    "## Definícia neurónovej siete\n",
    "\n",
    "Ďalším krokom je definícia modelu neurónovej siete. Na úvod pridáme do našej siete iba jednu konvolučnú vrstvu a padding, aby ste videli základnú štruktúru konvolučného bloku. Pre úplnosť implementácie pridáme aj aktivačnú vrstvu, ako aj `Dropout`, aby sme zabránili preučeniu. Štruktúra siete je nasledovná:\n",
    "\n",
    "1. Prvá skrytá vrstva (vstupná sa vytvorí automaticky) je konvolučná vrstva `Convolution2D`. Vrstva obsahuje 32 príznakových máp, s kernelmi 5×5 a aktivačnou vrstvou ReLU.\n",
    "2. Ďalšia vrstva je vrstva max poolingu `MaxPooling2D`. Rozmeri filtra sú 2×2.\n",
    "3. Ďalej použijeme regularizačnú vrstvu `Dropout`, ktorá náhodne vynuluje 20% neurónov vo vrstve aby sa predišlo pretrénovaniu.\n",
    "4. Pred tým než sa dostaneme do klasifikačnej časti neurónovej siete, musíme výstup predošlých vrstiev upraviť tak, aby s ním dokázali pracovať plne prepojené vrstvy. Na to slúži operácia *flatten*, teda transformácia tenzorovej reprezentácie na vektor, ktorý môže byť spracovaný tradičnými vrstvami.\n",
    "5. Pokračujeme vrstvou s 128 neurónmi a ďalšou aktivačnou vrstvou ReLU.\n",
    "6. Výstupná vrstva je daná počtom tried, teda obsahuje 10 neurónov.\n",
    "\n",
    "Pre definíciu siete vytvoríme podtriedu `nn.Module`:"
   ]
  },
  {
   "cell_type": "code",
   "execution_count": null,
   "id": "21067414",
   "metadata": {},
   "outputs": [],
   "source": [
    "class SimpleCNN(nn.Module):\n",
    "    def __init__(self):\n",
    "        super(SimpleCNN, self).__init__()\n",
    "        self.conv1 = nn.Conv2d(1, 32, (5, 5), padding=0)\n",
    "        self.fc1 = nn.Linear(32 * 12**2, 128)\n",
    "        self.fc2 = nn.Linear(128, 10)\n",
    "            \n",
    "    def forward(self, x):\n",
    "        out = self.conv1(x)\n",
    "        out = F.relu(out)\n",
    "        out = F.max_pool2d(out, (2,2))\n",
    "        out = F.dropout(out, 0.2)\n",
    "        out = out.view(out.shape[0], -1)\n",
    "        out = self.fc1(out)\n",
    "        out = F.relu(out)\n",
    "        out = self.fc2(out)\n",
    "        return out"
   ]
  },
  {
   "cell_type": "markdown",
   "id": "9fc34881",
   "metadata": {},
   "source": [
    "Pri generácii vektorov pomocou metódy `view` sa ako druhý parameter použije hodnota `-1`, čo slúži na automatický výpočet druhého rozmeru a tak zabezpečí dodržanie veľkosti dávky. Vstup do metódy `forward` teda má rozmery `[batch_size][channels][height][width]`, a dostaneme výsledok s rozmermi `[batch_size][num_classes=10]`.\n",
    "\n",
    "**Aké sú rozmery vstupov a výstupov jednotlivých vrstiev?**"
   ]
  },
  {
   "cell_type": "markdown",
   "id": "7057158c",
   "metadata": {},
   "source": [
    "## Trénovanie siete\n",
    "\n",
    "Po definícii modelu vieme našu sieť natrénovať. Použijeme na to chybovú funkciu krížovú entropiu (cross-entropy) a ADAM optimalizátor. Trénovať budeme po 5 epochách s veľkosťou batchu 128. Pre jednoduchší zápis trénovania a vyhodnotenia môžeme využiť `torchbearer`."
   ]
  },
  {
   "cell_type": "code",
   "execution_count": null,
   "id": "86efb6ca",
   "metadata": {},
   "outputs": [],
   "source": [
    "# build the model\n",
    "model = SimpleCNN()\n",
    "\n",
    "# define the loss function and the optimiser\n",
    "loss_function = nn.CrossEntropyLoss()\n",
    "optimiser = optim.Adam(model.parameters())\n",
    "\n",
    "device = \"cuda:0\" if torch.cuda.is_available() else \"cpu\"\n",
    "trial = Trial(model, optimiser, loss_function, metrics=['loss', 'accuracy']).to(device)\n",
    "trial.with_generators(trainloader, test_generator=testloader)\n",
    "trial.run(epochs=5)\n",
    "results = trial.evaluate(data_key=torchbearer.TEST_DATA)\n",
    "print(results)"
   ]
  },
  {
   "cell_type": "markdown",
   "id": "1a4fcedb",
   "metadata": {},
   "source": [
    "## Rozšírenie siete\n",
    "\n",
    "Vytvorte rozšírenú štruktúru neurónovej siete s nasledovnou štruktúrou:\n",
    "\n",
    "1. Konvolučná vrstva s 30 príznakovými mapami s veľkosťou 5×5 a aktiváciou ReLU.\n",
    "2. Max pooling vrstva s rozmermi 2×2.\n",
    "3. Konvolučná vrstva s 15 príznakovými mapami s veľkosťou 3×3 a aktiváciou ReLU.\n",
    "4. Max pooling vrstva s rozmermi 2×2.\n",
    "5. Dropout vrstva s pravdepodobnosťou 20%.\n",
    "6. Flatten vrstva.\n",
    "7. Plne prepojená vrstva s 128 neurónmi a aktiváciou ReLU.\n",
    "8. Plne prepojená vrstva s 50 neurónmi a aktiváciou ReLU.\n",
    "9. Výstupná vrstva."
   ]
  },
  {
   "cell_type": "code",
   "execution_count": null,
   "id": "82a7a611",
   "metadata": {},
   "outputs": [],
   "source": [
    "import torch \n",
    "import torch.nn.functional as F\n",
    "from torch import nn\n",
    "\n",
    "# Model Definition\n",
    "class BetterCNN(nn.Module):\n",
    "    def __init__(self):\n",
    "        super(BetterCNN, self).__init__()\n",
    "        # TODO: define layers\n",
    "    \n",
    "    def forward(self, x):\n",
    "        # TODO: define structure\n",
    "        return"
   ]
  },
  {
   "cell_type": "markdown",
   "id": "014a7760",
   "metadata": {},
   "source": [
    "Na trénovanie použite nasledovný kód:"
   ]
  },
  {
   "cell_type": "code",
   "execution_count": null,
   "id": "092085b2",
   "metadata": {},
   "outputs": [],
   "source": [
    "#reset the data loaders\n",
    "trainloader = DataLoader(trainset, batch_size=128, shuffle=True)\n",
    "testloader = DataLoader(testset, batch_size=128, shuffle=True)\n",
    "\n",
    "# build the model\n",
    "model = BetterCNN()\n",
    "\n",
    "# define the loss function and the optimiser\n",
    "loss_function = nn.CrossEntropyLoss()\n",
    "optimiser = optim.Adam(model.parameters())\n",
    "\n",
    "device = \"cuda:0\" if torch.cuda.is_available() else \"cpu\"\n",
    "trial = Trial(model, optimiser, loss_function, metrics=['loss', 'accuracy']).to(device)\n",
    "trial.with_generators(trainloader, test_generator=testloader)\n",
    "trial.run(epochs=5)\n",
    "results = trial.evaluate(data_key=torchbearer.TEST_DATA)\n",
    "print(results)"
   ]
  },
  {
   "cell_type": "markdown",
   "id": "c4329eff",
   "metadata": {},
   "source": [
    "## Uloženie siete"
   ]
  },
  {
   "cell_type": "markdown",
   "id": "0c189ba2",
   "metadata": {},
   "source": [
    "Po natrénovaní siete často potrebujete nastavené váhy uložiť a načítať pri ďalšom použití. V PyTorchi sa na ukladávanie modelov používa metóda `torch.save(state, filepath)`, ktorá uloží hodnotu váh do súboru, aby mohla byť načítaná neskôr."
   ]
  },
  {
   "cell_type": "code",
   "execution_count": null,
   "id": "ee229dd1",
   "metadata": {},
   "outputs": [],
   "source": [
    "#save the trained model weights\n",
    "torch.save(model.state_dict(), \"./bettercnn.weights\")"
   ]
  },
  {
   "cell_type": "markdown",
   "id": "038705c4",
   "metadata": {},
   "source": [
    "Ak pracujete v Colabe, tak si model môžete stiahnuť pomocou metódy:"
   ]
  },
  {
   "cell_type": "code",
   "execution_count": null,
   "id": "7aa117fb",
   "metadata": {},
   "outputs": [],
   "source": [
    "from google.colab import files\n",
    "files.download('bettercnn.weights')"
   ]
  },
  {
   "cell_type": "markdown",
   "id": "21c0f2b1",
   "metadata": {},
   "source": [
    "## Používanie siete\n",
    "\n",
    "Ak máte sieť natrénovanú a uloženú, pravdepodobne ju chcete využívať na predikciu hodnôt počas života modelu, napríklad v rámci aplikácie. V ideálnom prípade by mala byť sieť schopná spracovať vstupy, ktoré sa nenachádzali v pôvodnom datasete, avšak majú rovnaké základné charakteristiky. Na overenie funkčnosti vášho riešenia z predošlého kroku si stiahnite [ukážkové obrázky s číslicami](lab03/imgs.zip).\n",
    "\n",
    "Následne si načítajte uložené váhy. **Poznámka:** PyTorch defaultne neukladáva štruktúru siete, iba váhy, práve preto ak kód píšete vo viacerých súboroch, triedu definujúcu sieť často potrebujete nakopírovať/naimportovať aj do súboru, v ktorom riešite načítavanie váh."
   ]
  },
  {
   "cell_type": "code",
   "execution_count": null,
   "id": "80b9d1b1",
   "metadata": {},
   "outputs": [],
   "source": [
    "import matplotlib.pyplot as plt\n",
    "\n",
    "# build the model and load state\n",
    "model = BetterCNN()\n",
    "model.load_state_dict(torch.load('bettercnn.weights'))\n",
    "\n",
    "# put model in eval mode\n",
    "model = model.eval()"
   ]
  },
  {
   "cell_type": "markdown",
   "id": "58310036",
   "metadata": {},
   "source": [
    "Na poslednom riadku predošlého bloku kódu zapneme tzv. *eval* mód, ktorý nastaví sieť na využívanie pre inferenciu. Teda v tomto móde hodnoty váh sa nemenia, a tiež sa deaktivujú niektoré vrstvy, ako napríklad `Dropout`, prípadne `BatchNorm2D`.\n",
    "\n",
    "Následne si načítame a vizualizujeme ukážkový vstup (môžete si vybrať aj inú ukážku):"
   ]
  },
  {
   "cell_type": "code",
   "execution_count": null,
   "id": "306ad391",
   "metadata": {},
   "outputs": [],
   "source": [
    "from PIL import Image\n",
    "import torchvision\n",
    "\n",
    "transform = torchvision.transforms.ToTensor()\n",
    "im = transform(Image.open(\"imgs/1.png\"))\n",
    "\n",
    "plt.imshow(im[0], cmap=plt.get_cmap('gray'))"
   ]
  },
  {
   "cell_type": "markdown",
   "id": "3931487c",
   "metadata": {},
   "source": [
    "Teraz už môžeme model využiť na predikciu, avšak sieť očakáva batch na vstupe, kým my dodávame iba jeden obrázok. Práve preto zavoláme metódu `unsqueeze(0)`, ktorá pridá potrebné dimenzie. Výstupom siete je potom 10 hodnôt, ktoré reprezentujú mieru predikcie pre jednotlivé triedy. Finálna predikcia siete je trieda s najvyššou predikovanou hodnotou."
   ]
  },
  {
   "cell_type": "code",
   "execution_count": null,
   "id": "f69f4ed8",
   "metadata": {},
   "outputs": [],
   "source": [
    "batch = im.unsqueeze(0)\n",
    "predictions = model(batch)\n",
    "\n",
    "print(\"logits:\", predictions.data)\n",
    "\n",
    "_, predicted_class = predictions.max(1)\n",
    "\n",
    "print(\"predicted class:\", predicted_class.item())"
   ]
  },
  {
   "cell_type": "markdown",
   "id": "440306f9",
   "metadata": {},
   "source": [
    "**Skontrolujte predikciu siete na všetkých ukážkových dátach.**"
   ]
  },
  {
   "cell_type": "code",
   "execution_count": null,
   "id": "d6526b51",
   "metadata": {},
   "outputs": [],
   "source": [
    "transform = torchvision.transforms.ToTensor()\n",
    "for i in range(10):\n",
    "    im = transform(Image.open(\"imgs/{}.png\".format(i)))\n",
    "\n",
    "    plt.imshow(im[0], cmap=plt.get_cmap('gray'))\n",
    "    batch = im.unsqueeze(0)\n",
    "    predictions = model(batch)\n",
    "\n",
    "    print(\"logits:\", predictions.data)\n",
    "\n",
    "    _, predicted_class = predictions.max(1)\n",
    "\n",
    "    print(\"predicted class:\", predicted_class.item())"
   ]
  },
  {
   "cell_type": "markdown",
   "id": "2d09cedb",
   "metadata": {},
   "source": [
    "## Vizualizácia filtrov\n",
    "\n",
    "Na to, aby sme získali intuitívny pohľad do fungovania neurónovej siete, môžeme vizualizovať rôzne charakteristiky jednotlivých vrstiev a filtrov. Filtre vieme vizualizovať vďaka tomu, že ich môžeme považovať za malé obrázky, ktoré popisujú základné črty vstupov. Váhy filtrov vieme načítať priamo z natrénovanej siete a vizualizovať ich pomocou `matplotlib`:"
   ]
  },
  {
   "cell_type": "code",
   "execution_count": null,
   "id": "1ede527f",
   "metadata": {},
   "outputs": [],
   "source": [
    "weights = model.conv1.weight.data.cpu()\n",
    "\n",
    "# plot the first layer features\n",
    "for i in range(0,30):\n",
    "    plt.subplot(5,6,i+1)\n",
    "    plt.imshow(weights[i, 0, :, :], cmap=plt.get_cmap('gray'))\n",
    "plt.show()"
   ]
  },
  {
   "cell_type": "markdown",
   "id": "e2864471",
   "metadata": {},
   "source": [
    "Hodnota `model.conv1.data` je tenzor s hodnotami váh, metóda `cpu()` načíta dáta z GPU do procesora pre lepšiu vizualizáciu. Vzhľadom na to, že vplyv jednotlivých váh sa agreguje ako postupujeme v sieti, veľmi často dáva zmysel vizualizovať iba filtre prvej vrstvy."
   ]
  },
  {
   "cell_type": "markdown",
   "id": "fd857836",
   "metadata": {},
   "source": [
    "## Vizualizácia príznakových máp\n",
    "\n",
    "Podobným spôsobom ako samotné filtre dokážeme vykresliť aj ich efekt na vybraný vstup tak, že vstup preženieme sieťou a získame výstupy na ľubovoľnej vrstve. V PyTorchi to vieme urobiť použitím tzv. `hook` objektu, ktorý slúži na pozastavenie vykonávania dopredného chodu na istej vrstve. Napríklad pre druhú konvolučnú vrstvu môžeme použiť:"
   ]
  },
  {
   "cell_type": "code",
   "execution_count": null,
   "id": "1d65dc11",
   "metadata": {},
   "outputs": [],
   "source": [
    "transform = torchvision.transforms.ToTensor()\n",
    "im = transform(Image.open(\"imgs/1.PNG\")).unsqueeze(0)\n",
    "\n",
    "def hook_function(module, grad_in, grad_out):\n",
    "    for i in range(grad_out.shape[1]):\n",
    "        conv_output = grad_out.data[0, i]\n",
    "        plt.subplot(5, int(1+grad_out.shape[1]/5), i+1)\n",
    "        plt.imshow(conv_output, cmap=plt.get_cmap('gray'))\n",
    "        \n",
    "hook = model.conv2.register_forward_hook(hook_function) # register the hook\n",
    "model(im) # forward pass\n",
    "hook.remove() #Tidy up"
   ]
  },
  {
   "cell_type": "markdown",
   "id": "1569250f",
   "metadata": {},
   "source": [
    "**Vyskúšajte vizualizáciu pre výstupy prvej konvolučnej vrstve.**"
   ]
  },
  {
   "cell_type": "markdown",
   "id": "ecbd438e",
   "metadata": {},
   "source": [
    "## Vizualizácia maximálnej aktivácie\n",
    "\n",
    "Posledným užitočným spôsobom vizualizácie toho, čo sa filtre naučia, je nájsť vstupný obrázok, ktorý by spôsobil maximálnu aktiváciu filtra. Takýto obrázok vieme získať tak, že vygenerujeme náhodný šum, ktorý gradientovým vzostupom optimalizujeme dovtedy, kým nenájdeme maximalizáciu pre daný filter. Nasledovný kód získa presne takýto obrázok:"
   ]
  },
  {
   "cell_type": "code",
   "execution_count": null,
   "id": "e1b7b112",
   "metadata": {},
   "outputs": [],
   "source": [
    "def visualise_maximum_activation(model, target, num=10, alpha = 1.0):\n",
    "    for selected in range(num):\n",
    "        input_img = torch.randn(1, 1, 28, 28, requires_grad=True)\n",
    "\n",
    "        # we're interested in maximising outputs of the 3rd layer:\n",
    "        conv_output = None\n",
    "\n",
    "        def hook_function(module, grad_in, grad_out):\n",
    "            nonlocal conv_output\n",
    "            # Gets the conv output of the selected filter/feature (from selected layer)\n",
    "            conv_output = grad_out[0, selected]\n",
    "\n",
    "        hook = target.register_forward_hook(hook_function)\n",
    "\n",
    "        for i in range(30):\n",
    "            model(input_img)\n",
    "            loss = torch.mean(conv_output)\n",
    "            loss.backward()\n",
    "\n",
    "            norm = input_img.grad.std() + 1e-5\n",
    "            input_img.grad /= norm\n",
    "            input_img.data = input_img + alpha * input_img.grad\n",
    "\n",
    "        hook.remove()\n",
    "\n",
    "        input_img = input_img.detach()\n",
    "\n",
    "        plt.subplot(2,num/2,selected+1)\n",
    "        plt.imshow(input_img[0,0], cmap=plt.get_cmap('gray'))\n",
    "\n",
    "    plt.show()\n",
    "    \n",
    "visualise_maximum_activation(model, model.fc3)"
   ]
  }
 ],
 "metadata": {
  "kernelspec": {
   "display_name": "Python 3 (ipykernel)",
   "language": "python",
   "name": "python3"
  },
  "language_info": {
   "codemirror_mode": {
    "name": "ipython",
    "version": 3
   },
   "file_extension": ".py",
   "mimetype": "text/x-python",
   "name": "python",
   "nbconvert_exporter": "python",
   "pygments_lexer": "ipython3",
   "version": "3.12.11"
  }
 },
 "nbformat": 4,
 "nbformat_minor": 5
}
