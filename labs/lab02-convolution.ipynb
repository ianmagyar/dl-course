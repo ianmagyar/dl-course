{
 "cells": [
  {
   "cell_type": "markdown",
   "id": "28b38ed4",
   "metadata": {},
   "source": [
    "# Konvolúcia\n",
    "\n",
    "V hlbokom učení, kde sa veľmi často pracuje s obrázkami, sa používajú pokročilejšie matematické operácie, ako aj konvolúcia. Konvolúcia predstavuje operáciu nad dvomi funkciami, ktorá vyjadruje, ako aplikácia jednej funkcie ovplyvňuje tvar druhej funkcie. V kontexte hlbokého učenia a spracovania obrázkov konvolúcia umožňuje detekciu príznakov (čiary, hrany, vyššie útvary).\n",
    "\n",
    "Pred tým než sa pozrieme na spôsob aplikácie konvolúcie sa zameriame na reprezentáciu obrázkov v počítačoch:\n",
    "1. **Akým spôsobom sú obrázky zakódované a uložené v počítačoch?**\n",
    "2. **Pri trénovaní neurónových sietí je často potrebné vstupné dáta normalizovať na istý interval (najčastejšie 0 - 1). Ako sa dajú normalizovať dáta reprezentujúce obrázky pre hlboké neurónové siete?**"
   ]
  },
  {
   "cell_type": "markdown",
   "id": "86eb57b7",
   "metadata": {},
   "source": [
    "V hlbokých neurónových sieťach konvolúcia sa robí aplikáciou filtra na obrázok (rozmery filtra sú zvyčajne menšie, a oba majú často štvorcový tvar). Výpočet potom prebieha násobením dvoch \"matíc\" po jednotlivých prvkov a následným sčítaním násobkov. Výstupom potom bude ďalšia matica, jej rozmery udávajú ďalšie parametre konvolúcie ako *padding* a *stride*.\n",
    "\n",
    "Najjednoduchší prípad aplikácie konvolúcie ukážeme na nasledujúcom príklade, kde vstupný obrázok má tvar *5 x 5* a filter má rozmery *3 x 3*:\n",
    "\n",
    "![Konvolúcia príklad](lab02/conv_example_1.jpg)"
   ]
  },
  {
   "cell_type": "markdown",
   "id": "0a69505a",
   "metadata": {},
   "source": [
    "Aplikáciu filtra začneme v ľavom hornom rohu:\n",
    "\n",
    "![Konvolúcia krok 1](lab02/conv_first_step.jpg)\n",
    "\n",
    "kde výsledok operácie bude:\n",
    "\n",
    "\\begin{equation*}\n",
    "3 \\cdot 0 + 2 \\cdot 1 + 1 \\cdot 2 + 0 \\cdot 2 + 4 \\cdot 2 + 2 \\cdot 0 + 0 \\cdot 0 + 2 \\cdot 1 + 3 \\cdot 2 = 20\n",
    "\\end{equation*}"
   ]
  },
  {
   "cell_type": "markdown",
   "id": "7a3f5f10",
   "metadata": {},
   "source": [
    "V ďalšom kroku filter posunieme doprava (podľa *stride*, nateraz o 1), a ak sa dostaneme na koniec riadku, filter posunieme o krok dole a vrátime ho na začiatok riadku. Takto postupujeme až kým sa nedostaneme do pravého dolného rohu obrázka.\n",
    "\n",
    "**Vypočítajte zvyšné hodnoty po aplikácii filtra (výstupom bude matica 3 x 3).**"
   ]
  },
  {
   "cell_type": "markdown",
   "id": "248bd2df",
   "metadata": {},
   "source": [
    "## Konvolúcia - reálna aplikácia\n",
    "\n",
    "Aby ste lepšie pochopili podstatu a užitočnosť konvolúcie, teraz sa pozrieme na príklad aplikácie filtra pre detegovanie vodorovných hrán. Na začiatku vývoja konvolučných neurónových sietí išlo presne o pridávanie už existujúcich filtrov do neurónovej siete, hlboké učenie však neskôr umožnilo trénovanie samotných filtrov. **Aký bude výsledok aplikácie filtra na obrázok v nasledujúcom prípade? Aký účinok to má na obrázok? Ako je reprezentovaný detegovaný príznak, teda hrana?**\n",
    "\n",
    "![Konvolúcia hrany](lab02/conv_edge.jpg)"
   ]
  },
  {
   "cell_type": "markdown",
   "id": "c07f2736",
   "metadata": {},
   "source": [
    "## Pooling\n",
    "\n",
    "V konvolučných sieťach okrem samotnej konvolúcie sa často používa aj operácia pooling, ktorého cieľom je znížiť rozmery vstupného obrazu tak, aby bola zachovaná v ňom uložená informácia. Počas poolingu prechádzame obrázkom podobným štýlom ako v prípade konvolúcie, avšak pri poolingu nepoužívame filter, len malé \"okienko\" z obrázka, a z neho vypočítame výstup podľa konkrétneho typu poolingu. Existujú rôzne typy poolingu, dnes sa pozrieme na dva najčastejšie:\n",
    "\n",
    "- **max pooling** - z okienka vyberie maximálnu hodnotu\n",
    "- **average pooling** - vypočíta priemer hodnôt v okienku.\n",
    "\n",
    "**Aplikujte oba typy poolingu s rozmermi *2 x 2* a s posunom (*stride*) 1 na predošlých príkladoch. Aké rozdiely vidíte vo výsledkoch?**"
   ]
  },
  {
   "cell_type": "markdown",
   "id": "0207bbc0",
   "metadata": {},
   "source": [
    "# Implementácia konvolúcie a poolingu\n",
    "\n",
    "Na tomto cvičení implementujeme základné operácie konvolučných neurónových sietí, a to konvolúciu a *pooling*. Programovať budeme v programovacom jazyku Python. Pri implementácii použijeme knižnicu `numpy`, ktorá sa používa veľmi často v projektoch s hlbokým učením, a na ňu sú stavané ďalšie knižnice ako `tensorflow` a `pytorch`."
   ]
  },
  {
   "cell_type": "markdown",
   "id": "444a837f",
   "metadata": {},
   "source": [
    "## 1. Štruktúra riešenia\n",
    "\n",
    "[Kostru dnešného riešenia nájdete tu](lab02/lab02.py) alebo môžete si stiahnuť tento jupyter notebook a pracovať priamo v ňom.\n",
    "\n",
    "Na začiatku si importujeme knižnicu `numpy` a definujeme niekoľko ukážkových príkladov pre obrázky a filtre:"
   ]
  },
  {
   "cell_type": "code",
   "execution_count": null,
   "id": "6e54f9ba",
   "metadata": {},
   "outputs": [],
   "source": [
    "import numpy as np\n",
    "\n",
    "\n",
    "image1 = np.array([\n",
    "    [3, 2, 1, 2, 0],\n",
    "    [0, 4, 2, 0, 1],\n",
    "    [0, 2, 3, 1, 1],\n",
    "    [1, 3, 4, 0, 0],\n",
    "    [2, 1, 2, 1, 0]\n",
    "])\n",
    "\n",
    "filter1 = np.array([\n",
    "    [0, 1, 2],\n",
    "    [2, 2, 0],\n",
    "    [0, 1, 2]\n",
    "])\n",
    "\n",
    "image2 = np.array([\n",
    "    [1, 1, 1, 1, 1, 1],\n",
    "    [1, 1, 1, 1, 1, 1],\n",
    "    [1, 1, 1, 1, 1, 1],\n",
    "    [0, 0, 0, 0, 0, 0],\n",
    "    [0, 0, 0, 0, 0, 0],\n",
    "    [0, 0, 0, 0, 0, 0]\n",
    "])\n",
    "\n",
    "filter2 = np.array([\n",
    "    [1, 2, 1],\n",
    "    [0, 0, 0],\n",
    "    [-1, -2, -1]\n",
    "])"
   ]
  },
  {
   "cell_type": "markdown",
   "id": "bb98c6ef",
   "metadata": {},
   "source": [
    "V skripte je deklarovaných šesť funkcií, ktoré budeme implementovať v nasledujúcich krokoch - tri pomocné funkcie a tri obsahujúce implementáciu konvolúcie, max poolingu a average poolingu. Ich podrobný popis nájdete v komentároch, úlohu týchto funkcií ale vieme zhrnúť nasledovne:\n",
    "\n",
    "- `get_result_array` - vytvorí prázdne n-rozmerné pole s hodnotami inicializovanými na 0. Jej úlohou je vypočítať rozmery výslednej mapy po aplikácii konvolúcie resp. *pooling*u.\n",
    "- `get_padding_value` - vypočíta potrebný padding na základe parametrov konvolúcie/*pooling*u.\n",
    "- `get_padded_image` - pridá do originálneho vstupného obrázka *padding* podľa *padding* hodnoty.\n",
    "- `convolve` - vykoná konvolúciu so zadanými parametrami.\n",
    "- `maxPool` - vykoná *max pooling* so zadanými parametrami.\n",
    "- `avgPool` - vykoná *average pooling* so zadanými parametrami."
   ]
  },
  {
   "cell_type": "markdown",
   "id": "1ca4389c",
   "metadata": {},
   "source": [
    "## 2. `get_result_array`\n",
    "\n",
    "Pred tým, než sa spustíme do implementácie operácií konvolúcia a *pooling* musíme pochopiť funkciu parametrov *stride* a *padding*.\n",
    "\n",
    "*Stride* vyjadruje to, o koľko posunieme konvolučný alebo *pooling* filter po jednom kroku výpočtov. Najčastejšie nadobúda hodnotu 1, najmä pri použití *paddingu*. Na dnešnom cvičení budeme predpokladať, že jeho hodnota je 1, neskôr svoje riešenie môžete rozšíriť tak, aby podporovalo aj iné hodnoty *stride*.\n",
    "\n",
    "*Padding* je úprava vstupného obrazu pred aplikáciou konvolúcie alebo *poolingu*. Síce má niekoľko variantov, najčastejšie sa ale používa *zero padding*, teda pridávanie nulových hodnôt na okraje obrázka vo všetkých smeroch. Z možných spôsobov použitia *paddingu* dnes implementujeme dva, a to *no padding* (teda na obrázok vôbec nepoužijeme *padding*) a *same padding*, čo znamená, že v každom smere pridáme rovnaký počet núl tak, aby výsledok operácie mal rovnaké rozmery ako vstupný obrázok.\n",
    "\n",
    "Ak platia vyššie uvedené predpoklady, rozmery výstupnej príznakovej mapy vieme vypočítať podľa vzorca:\n",
    "\n",
    "\\begin{equation*}\n",
    "m_{d} = \\frac{I_{d} - k_{d} + 2 \\cdot P}{S} + 1,\n",
    "\\end{equation*}\n",
    "\n",
    "kde $m$ je mapa, $I$ je obrázok, $k$ je filter (alebo *kernel*), $P$ je *padding* hodnota (počet pridaných núl), $S$ je *stride* a $d$ je rozmer (šírka alebo výška). Keďže ale pri konvolúcii veľmi často používame štvorcové obrazy, rovnica platí pre oba rozmery naraz.\n",
    "\n",
    "**Implementujte funkciu `get_result_array` tak, aby vrátila n-rozmerné pole hodnôt inicializovaných na 0.** Vstupné parametre funkcie nosia nasledovné hodnoty:\n",
    "\n",
    "- `image_shape` - dvojica celočíselných hodnôt udávajúca rozmery vstupného obrazu (výška x šírka) ($I$)\n",
    "- `kernel_shape` - dvojica celočíselných hodnôt udávajúca rozmery vstupného obrazu (výška x šírka) ($k$)\n",
    "- `stride` - celočíselná hodnota, vyjadruje posun po aplikácii operácie ($S$)\n",
    "- `P` - *padding* hodnota, celé číslo ($P$)\n",
    "\n",
    "Vo funkcii by ste mali vykonať nasledovné kroky:\n",
    "\n",
    "1. vypočítať rozmery výstupnej príznakovej mapy podľa vyššie uvedeného vzorca\n",
    "2. skontrolujte, či výsledné rozmery sú celé čísla a ak nie, vyhoďte príslušnú chybu\n",
    "3. funkcia vráti dvojrozmerné pole 0 hodnôt s vypočítanými rozmermi (výška x šírka)"
   ]
  },
  {
   "cell_type": "code",
   "execution_count": null,
   "id": "8f1f7b19",
   "metadata": {},
   "outputs": [],
   "source": [
    "def get_result_array(image_shape, kernel_shape, stride, P):\n",
    "    return None"
   ]
  },
  {
   "cell_type": "markdown",
   "id": "76553eb6",
   "metadata": {},
   "source": [
    "## 3. `get_padding_value`\n",
    "\n",
    "V ďalšom kroku implementujeme funkciu `get_padding_value`, ktorá vypočíta *padding* hodnotu, teda počet pridaných 0 pri danom nastavení parametrov. Ako sme už písali v bode 2, dnes budeme používať iba dva spôsoby *paddingu*, a to *no padding* a *same padding*. V rámci funkcie takisto potrebujeme skontrolovať, či nastavenie parametrov dáva platný výsledok operácie pri použití *paddingu*.\n",
    "\n",
    "V prípade *no padding* nepotrebujeme pridať nuly, teda *padding* hodnota je nulová. Pri *same padding* budeme predpokladať, že *stride* je 1, potom *padding* hodnotu vieme vypočítať podľa vzorca (odvodené z vyššie uvedeného vzorca, kde $m = I$):\n",
    "\n",
    "\\begin{equation*}\n",
    "P_{d} = \\frac{k_{d} - 1}{2},\n",
    "\\end{equation*}\n",
    "\n",
    "kde $P_{d}$ je *padding* hodnota v dimenzií $d$ a $k_{d}$ je rozmer filtra v danej dimenzii. Ak pracujeme so štvorcovým filtrom, *padding* hodnota je rovnaká v oboch smeroch.\n",
    "\n",
    "**Implementujte funkciu `get_padding_value` tak, aby vypočítala *padding* hodnotu a tiež skontrolovala, či platia všetky obmedzenia hodnôt parametrov:**\n",
    "\n",
    "- parameter `padding` môže nadobúdať hodnoty `'none'` a `'same'`\n",
    "- pri *same padding* musí mať parameter `stride` hodnotu `1`.\n",
    "\n",
    "Funkcia vráti jedno celé číslo a má nasledujúce parametre:\n",
    "\n",
    "- `kernel_shape` - dvojica celočíselných hodnôt udávajúca rozmery vstupného obrazu (výška x šírka) ($k$)\n",
    "- `stride` - celočíselná hodnota, vyjadruje posun po aplikácii operácie ($S$)\n",
    "- `padding` - reťazec s hodnotou `'none'` pre *no padding* alebo `'same'` pre *same padding*"
   ]
  },
  {
   "cell_type": "code",
   "execution_count": null,
   "id": "034ac7e6",
   "metadata": {},
   "outputs": [],
   "source": [
    "def get_padding_value(kernel_shape, stride, padding):\n",
    "    return 0"
   ]
  },
  {
   "cell_type": "markdown",
   "id": "3560eecb",
   "metadata": {},
   "source": [
    "## 4. `get_padded_image`\n",
    "\n",
    "Ďalšia funkcia vykoná *padding* nad obrázkom, t.j. pridá potrebný počet 0 vo všetkých smeroch, pôvodný obrázok sa nachádza potom v strede rozšíreného obrázka. Funkcia má dva parametre:\n",
    "\n",
    "- `image` - pôvodný obrázok\n",
    "- `P` - *padding* hodnota, počet pridaných núl.\n",
    "\n",
    "**Implementujte funkciu `get_padded_image`, ktorá vráti numpy pole s rozšíreným obrázkom. Pôvodnú premennú nemeňte.**"
   ]
  },
  {
   "cell_type": "code",
   "execution_count": null,
   "id": "058ce959",
   "metadata": {},
   "outputs": [],
   "source": [
    "def get_padded_image(image, P):\n",
    "    return image"
   ]
  },
  {
   "cell_type": "markdown",
   "id": "310ba09d",
   "metadata": {},
   "source": [
    "## 5. `convolve`\n",
    "\n",
    "V tomto kroku implementujeme konvolúciu. Na predspracovanie obrázka a prípravu výstupnej príznakovej mapy vieme použiť už vytvorené pomocné funkcie, našou jedinou úlohou ostáva naplniť pripravenú príznakovú mapu hodnotami aplikáciou konvolúcie. Funkcia má štyri parametre:\n",
    "\n",
    "- `image` - n-rozmerné pole reprezentujúce vstupný obrázok\n",
    "- `kernel` - n-rozmerné pole reprezentujúce konvolučný filter\n",
    "- `stride` - celočíselná hodnota, vyjadruje posun po aplikácii operácie\n",
    "- `padding` - reťazec s hodnotou `'none'` pre *no padding* alebo `'same'` pre *same padding*\n",
    "\n",
    "**Implementujte funkciu `convolve` tak, aby vrátila príznakovú mapu. Pri tom nemeňte pôvodné premenné `image` a `kernel`.**\n",
    "\n",
    "Po implementácii môžete vaše riešenie otestovať na definovaných príkladoch, alebo na vami zvolenom obrázku (opravte hodnoty parametrov v `main` funkcii)."
   ]
  },
  {
   "cell_type": "code",
   "execution_count": null,
   "id": "38741ffe",
   "metadata": {},
   "outputs": [],
   "source": [
    "def convolve(image, kernel, stride=1, padding='none'):\n",
    "    return image"
   ]
  },
  {
   "cell_type": "markdown",
   "id": "6065468b",
   "metadata": {},
   "source": [
    "## 6. `maxPool` a `avgPool`\n",
    "\n",
    "V poslednom kroku nám ostáva implementovať funkcie pre *pooling*. V skripte máte deklarované dve funkcie pre operácie *max pooling* a *average pooling*, ich telo je veľmi podobné riešeniu konvolúcie, jediný rozdiel je vo výpočte hodnôt v príznakovej mape. Obe funkcie majú štyri parametre:\n",
    "\n",
    "- `image` - n-rozmerné pole reprezentujúce vstupný obrázok\n",
    "- `kernel_size` - dvojica celočíselných hodnôt udávajúca rozmery vstupného obrázka (výška x šírka)\n",
    "- `stride` - celočíselná hodnota, vyjadruje posun po aplikácii operácie\n",
    "- `padding` - reťazec s hodnotou `'none'` pre *no padding* alebo `'same'` pre *same padding*\n",
    "\n",
    "**Implementujte a otestujte funkcie `maxPool` a `avgPool` tak, aby vrátili príznakovú mapu po aplikácii operácie *pooling*. Hodnoty vstupných premenných pritom nemeňte.**"
   ]
  },
  {
   "cell_type": "code",
   "execution_count": null,
   "id": "70de5d4c",
   "metadata": {},
   "outputs": [],
   "source": [
    "def maxPool(image, kernel_size, stride=1, padding='none'):\n",
    "    return image\n",
    "\n",
    "\n",
    "def avgPool(image, kernel_size, stride=1, padding='none'):\n",
    "    return image"
   ]
  },
  {
   "cell_type": "markdown",
   "id": "50542d91",
   "metadata": {},
   "source": [
    "## Doplňujúce úlohy\n",
    "\n",
    "1. Ukážkové príklady počítali s čiernobielymi obrázkami. Opravte vaše riešenie tak, aby podporovalo prácu s obrázkami s viacerými farebnými kanálmi.\n",
    "2. Výpočet *padding* hodnoty v súčasnej forme nie vždy zabezpečuje rovnaké rozmery vstupov a výstupov. Upravte funkciu tak, aby vstupný obrázok rozšírila prioritne vľavo a hore tak, aby výstupná príznaková mapa bola vždy rovnakého rozmeru ako vstupný obrázok.\n",
    "3. Upravte výpočet *padding* hodnoty tak, aby podporoval aj iné hodnoty *stride* ako 1."
   ]
  },
  {
   "cell_type": "markdown",
   "id": "4c0362c5",
   "metadata": {},
   "source": [
    "## Použité zdroje a ďalšie linky\n",
    "\n",
    "- [A guide to convolution arithmetic for deep learning](https://arxiv.org/pdf/1603.07285.pdf)\n",
    "- [Gentle Dive into Math Behind Convolutional Neural Networks](https://towardsdatascience.com/gentle-dive-into-math-behind-convolutional-neural-networks-79a07dd44cf9)\n",
    "- [Convolution Image Size, Filter Size, Padding and Stride](https://jamesmccaffrey.wordpress.com/2018/05/30/convolution-image-size-filter-size-padding-and-stride/)"
   ]
  }
 ],
 "metadata": {
  "kernelspec": {
   "display_name": "Python 3 (ipykernel)",
   "language": "python",
   "name": "python3"
  },
  "language_info": {
   "codemirror_mode": {
    "name": "ipython",
    "version": 3
   },
   "file_extension": ".py",
   "mimetype": "text/x-python",
   "name": "python",
   "nbconvert_exporter": "python",
   "pygments_lexer": "ipython3",
   "version": "3.9.12"
  }
 },
 "nbformat": 4,
 "nbformat_minor": 5
}
